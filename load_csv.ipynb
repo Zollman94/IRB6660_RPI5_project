{
 "cells": [
  {
   "cell_type": "code",
   "execution_count": 2,
   "id": "40f34da2",
   "metadata": {},
   "outputs": [],
   "source": [
    "import csv\n",
    "from collections import defaultdict"
   ]
  },
  {
   "cell_type": "code",
   "execution_count": 3,
   "id": "7e3a4843",
   "metadata": {},
   "outputs": [],
   "source": [
    "objects = {}"
   ]
  },
  {
   "cell_type": "code",
   "execution_count": 4,
   "id": "9b0f3549",
   "metadata": {},
   "outputs": [
    {
     "name": "stdout",
     "output_type": "stream",
     "text": [
      "{0: {'object': 98, 'width': 0, 'length': 0}, 1: {'object': 1, 'width': 180, 'length': 317}, 2: {'object': 1, 'width': 180, 'length': 412}, 3: {'object': 4, 'width': 150, 'length': 418}, 4: {'object': 4, 'width': 150, 'length': 300}, 5: {'object': 5, 'width': 180, 'length': 326}, 6: {'object': 6, 'width': 150, 'length': 311}, 7: {'object': 9, 'width': 180, 'length': 318}, 8: {'object': 9, 'width': 180, 'length': 417}, 9: {'object': 99, 'width': 150, 'length': 417}, 10: {'object': 10, 'width': 150, 'length': 300}, 11: {'object': 11, 'width': 180, 'length': 307}, 12: {'object': 6, 'width': 150, 'length': 311}, 13: {'object': 3, 'width': 150, 'length': 317}, 14: {'object': 8, 'width': 150, 'length': 422}, 15: {'object': 8, 'width': 185, 'length': 301}, 16: {'object': 7, 'width': 185, 'length': 321}, 17: {'object': 99, 'width': 185, 'length': 320}, 18: {'object': 8, 'width': 185, 'length': 429}, 19: {'object': 99, 'width': 185, 'length': 429}, 20: {'object': 98, 'width': 0, 'length': 0}, 21: {'object': 98, 'width': 0, 'length': 0}, 22: {'object': 0, 'width': 250, 'length': 310}, 23: {'object': 99, 'width': 180, 'length': 437}, 24: {'object': 98, 'width': 0, 'length': 0}, 25: {'object': 98, 'width': 0, 'length': 0}, 26: {'object': 0, 'width': 250, 'length': 310}, 27: {'object': 98, 'width': 0, 'length': 0}, 28: {'object': 98, 'width': 0, 'length': 0}, 29: {'object': 98, 'width': 0, 'length': 0}, 30: {'object': 98, 'width': 0, 'length': 0}, 31: {'object': 2, 'width': 180, 'length': 437}, 32: {'object': 98, 'width': 0, 'length': 0}, 33: {'object': 98, 'width': 0, 'length': 0}, 34: {'object': 98, 'width': 0, 'length': 0}, 35: {'object': 98, 'width': 0, 'length': 0}, 36: {'object': 98, 'width': 0, 'length': 0}, 37: {'object': 98, 'width': 0, 'length': 0}, 38: {'object': 98, 'width': 0, 'length': 0}, 39: {'object': 98, 'width': 0, 'length': 0}, 40: {'object': 98, 'width': 0, 'length': 0}, 41: {'object': 99, 'width': 150, 'length': 300}, 42: {'object': 99, 'width': 180, 'length': 316}, 43: {'object': 6, 'width': 150, 'length': 310}, 44: {'object': 99, 'width': 180, 'length': 316}, 45: {'object': 99, 'width': 260, 'length': 310}, 46: {'object': 12, 'width': 150, 'length': 311}, 47: {'object': 99, 'width': 180, 'length': 326}, 48: {'object': 13, 'width': 137, 'length': 311}}\n"
     ]
    }
   ],
   "source": [
    "with open('objects.csv', mode='r', newline='') as f:\n",
    "    reader = csv.DictReader(f)\n",
    "    for row in reader:\n",
    "        detect_id = int(row['detect_id'])\n",
    "        item_id = int(row['item_id'])\n",
    "        try:\n",
    "            width = int(row['width'])\n",
    "        except TypeError:\n",
    "            width = 0\n",
    "        try:\n",
    "            length = int(row['length'])\n",
    "        except TypeError:\n",
    "            length = 0\n",
    "        trafo = {\"object\":detect_id,\"width\":width,\"length\":length}\n",
    "        objects[item_id]=trafo\n",
    "print(objects)"
   ]
  },
  {
   "cell_type": "code",
   "execution_count": 5,
   "id": "5b7f842e",
   "metadata": {},
   "outputs": [],
   "source": [
    "result_detection = 1\n",
    "result_length = 317\n",
    "resuld_width = 180\n",
    "threshold = 5"
   ]
  },
  {
   "cell_type": "code",
   "execution_count": 6,
   "id": "0e6d1504",
   "metadata": {},
   "outputs": [
    {
     "name": "stdout",
     "output_type": "stream",
     "text": [
      "{'object': 1, 'width': 180, 'length': 317}\n"
     ]
    }
   ],
   "source": [
    "print(objects[1])"
   ]
  },
  {
   "cell_type": "code",
   "execution_count": 7,
   "id": "17b7202a",
   "metadata": {},
   "outputs": [
    {
     "name": "stdout",
     "output_type": "stream",
     "text": [
      "[1, 7, 13, 16, 17, 42, 44]\n"
     ]
    }
   ],
   "source": [
    "# find items based on length\n",
    "out_length = []\n",
    "for item_id, measures in objects.items():\n",
    "    if abs(measures[\"length\"] - result_length) <= threshold:\n",
    "        out_length.append(item_id)\n",
    "print(out_length)"
   ]
  },
  {
   "cell_type": "code",
   "execution_count": 8,
   "id": "c07ca289",
   "metadata": {},
   "outputs": [
    {
     "name": "stdout",
     "output_type": "stream",
     "text": [
      "[1, 2, 5, 7, 8, 11, 15, 16, 17, 18, 19, 23, 31, 42, 44, 47]\n"
     ]
    }
   ],
   "source": [
    "# find items based on width\n",
    "out_width = []\n",
    "for item_id, measures in objects.items():\n",
    "    if abs(measures[\"width\"] - resuld_width) <= threshold:\n",
    "        out_width.append(item_id)\n",
    "print(out_width)"
   ]
  },
  {
   "cell_type": "code",
   "execution_count": 9,
   "id": "1661cbdf",
   "metadata": {},
   "outputs": [
    {
     "name": "stdout",
     "output_type": "stream",
     "text": [
      "[1, 2]\n"
     ]
    }
   ],
   "source": [
    "# find items based on detection\n",
    "out_detection = []\n",
    "for item_id, measures in objects.items():\n",
    "    if measures[\"object\"] == result_detection:\n",
    "        out_detection.append(item_id)\n",
    "print(out_detection)"
   ]
  },
  {
   "cell_type": "code",
   "execution_count": 10,
   "id": "e844ee52",
   "metadata": {},
   "outputs": [
    {
     "name": "stdout",
     "output_type": "stream",
     "text": [
      "[1, 7, 16, 17, 42, 44]\n"
     ]
    }
   ],
   "source": [
    "# find items that are in both lists: out_length and out_width\n",
    "based_on_dimensions = []\n",
    "for item_id, measures in objects.items():\n",
    "    if item_id in out_length and item_id in out_width:\n",
    "        based_on_dimensions.append(item_id)\n",
    "print(based_on_dimensions)"
   ]
  },
  {
   "cell_type": "code",
   "execution_count": 11,
   "id": "6222d206",
   "metadata": {},
   "outputs": [
    {
     "name": "stdout",
     "output_type": "stream",
     "text": [
      "[1]\n"
     ]
    }
   ],
   "source": [
    "# find items that are in both lists: based_on_detection and out_detection\n",
    "output = []\n",
    "for item_id, measures in objects.items():\n",
    "    if item_id in based_on_dimensions and item_id in out_detection:\n",
    "        output.append(item_id)\n",
    "print(output)"
   ]
  }
 ],
 "metadata": {
  "kernelspec": {
   "display_name": "Python 3",
   "language": "python",
   "name": "python3"
  },
  "language_info": {
   "codemirror_mode": {
    "name": "ipython",
    "version": 3
   },
   "file_extension": ".py",
   "mimetype": "text/x-python",
   "name": "python",
   "nbconvert_exporter": "python",
   "pygments_lexer": "ipython3",
   "version": "3.10.6"
  }
 },
 "nbformat": 4,
 "nbformat_minor": 5
}
